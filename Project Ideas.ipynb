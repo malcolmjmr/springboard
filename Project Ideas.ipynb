{
 "cells": [
  {
   "cell_type": "markdown",
   "metadata": {},
   "source": [
    "# Project Ideas\n",
    "1. [Predict Duration of Bear Market](#project1)\n",
    "2. [Predict Crypto Currency Price from Reddit Sentiment](#project2)\n",
    "3. [Predict NFL game outcome](#project3)"
   ]
  },
  {
   "cell_type": "markdown",
   "metadata": {},
   "source": [
    "<a id=\"project1\">\n",
    "### Predict Duration of Bear Market following a market crash.  \n",
    "</a>\n",
    "\n",
    "**Overview**: \n",
    "\n",
    "Using the major market indices as well as the major economic indicators I want to predict the duration of a bear market immediately after a financial crisis.\n",
    "\n",
    "**Data Source**: [Quandl](https://www.quandl.com/browse?idx=database-browser)"
   ]
  },
  {
   "cell_type": "markdown",
   "metadata": {},
   "source": [
    "<a id=\"project2\">\n",
    "### Predict Crypto Currency Price Movement from Reddit Sentiment  \n",
    "</a>\n",
    "\n",
    "**Overview**: \n",
    "\n",
    "Using reddit posts under a given crypto currency's subreddit I want to predict the probability that the price of the currency will spike the following day. \n",
    "\n",
    "**Data Source**: [Poloniex Exchange](https://poloniex.com/support/api/) and [Reddit](http://praw.readthedocs.io/en/latest/pages/code_overview.html#praw.objects.Multireddit.get_top_from_all)"
   ]
  },
  {
   "cell_type": "markdown",
   "metadata": {},
   "source": [
    "<a id=\"project3\">\n",
    "### Predict NFL game outcome  \n",
    "</a>\n",
    "\n",
    "**Overview**: \n",
    "\n",
    "Using team, player and previous game data I want to predict the outcome of an NFL game. \n",
    "\n",
    "**Data Source**: [MySportsFeeds](https://www.mysportsfeeds.com/data-feeds/nfl/feedlist/)"
   ]
  }
 ],
 "metadata": {
  "kernelspec": {
   "display_name": "Python 3",
   "language": "python",
   "name": "python3"
  },
  "language_info": {
   "codemirror_mode": {
    "name": "ipython",
    "version": 3
   },
   "file_extension": ".py",
   "mimetype": "text/x-python",
   "name": "python",
   "nbconvert_exporter": "python",
   "pygments_lexer": "ipython3",
   "version": "3.5.1"
  }
 },
 "nbformat": 4,
 "nbformat_minor": 0
}
