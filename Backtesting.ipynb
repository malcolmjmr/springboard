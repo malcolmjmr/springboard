{
 "cells": [
  {
   "cell_type": "code",
   "execution_count": 1,
   "metadata": {
    "collapsed": false,
    "scrolled": true
   },
   "outputs": [
    {
     "name": "stdout",
     "output_type": "stream",
     "text": [
      "2017-03-01 00:08:45.465009 2017-03-03 00:08:45.465020\n",
      "acquired 29864.0 total trades\n"
     ]
    }
   ],
   "source": [
    "# Declare the components with respective parameters\n",
    "from data import PoloniexDataHandler\n",
    "from strategy import BuyAndHoldStrategy\n",
    "from portfolio import NaivePortfolio\n",
    "from execution import SimulatedExecutionHandler\n",
    "from queue import Queue\n",
    "import time\n",
    "from datetime import datetime, timedelta\n",
    "\n",
    "markets = ['USDT_BTC', 'BTC_ETH', 'BTC_MAID', 'BTC_XMR', 'BTC_XRP']\n",
    "events = Queue()\n",
    "market_data = PoloniexDataHandler(\n",
    "    markets[:1], events, start=datetime.now()-timedelta(days=2), end=datetime.now())\n",
    "strategy = BuyAndHoldStrategy(market_data, events)\n",
    "port = NaivePortfolio(market_data, events)\n",
    "exchange = SimulatedExecutionHandler(events)"
   ]
  },
  {
   "cell_type": "code",
   "execution_count": null,
   "metadata": {
    "collapsed": false
   },
   "outputs": [],
   "source": []
  },
  {
   "cell_type": "code",
   "execution_count": 2,
   "metadata": {
    "collapsed": false,
    "scrolled": false
   },
   "outputs": [
    {
     "name": "stdout",
     "output_type": "stream",
     "text": [
      "0\n",
      "SHORT 0\n",
      "Order: Symbol=USDT_BTC, Direction=SELL, Quantity=100, Price=1186.9855476029356\n",
      "2\n",
      "SHORT -100\n",
      "4\n",
      "LONG -100\n",
      "Order: Symbol=USDT_BTC, Direction=BUY, Quantity=200, Price=1189.3841739442394\n",
      "6\n",
      "LONG 100\n",
      "8\n",
      "LONG 100\n",
      "10\n",
      "LONG 100\n",
      "12\n",
      "SHORT 100\n",
      "Order: Symbol=USDT_BTC, Direction=SELL, Quantity=200, Price=1189.4734220755045\n",
      "14\n",
      "SHORT -100\n",
      "16\n",
      "SHORT -100\n",
      "18\n",
      "LONG -100\n",
      "Order: Symbol=USDT_BTC, Direction=BUY, Quantity=200, Price=1191.2049965060653\n",
      "20\n",
      "LONG 100\n",
      "22\n",
      "LONG 100\n",
      "24\n",
      "LONG 100\n",
      "26\n",
      "LONG 100\n",
      "28\n",
      "LONG 100\n",
      "30\n",
      "LONG 100\n",
      "32\n",
      "LONG 100\n",
      "34\n",
      "LONG 100\n",
      "36\n",
      "LONG 100\n",
      "38\n",
      "LONG 100\n",
      "40\n",
      "LONG 100\n",
      "42\n",
      "SHORT 100\n",
      "Order: Symbol=USDT_BTC, Direction=SELL, Quantity=200, Price=1224.4340312359082\n",
      "44\n",
      "SHORT -100\n",
      "46\n",
      "LONG -100\n",
      "Order: Symbol=USDT_BTC, Direction=BUY, Quantity=200, Price=1229.4375790734339\n",
      "48\n",
      "LONG 100\n",
      "51\n",
      "LONG 100\n",
      "53\n",
      "LONG 100\n",
      "55\n",
      "SHORT 100\n",
      "Order: Symbol=USDT_BTC, Direction=SELL, Quantity=200, Price=1225.866016600469\n",
      "57\n",
      "SHORT -100\n",
      "59\n",
      "SHORT -100\n",
      "61\n",
      "SHORT -100\n",
      "63\n",
      "LONG -100\n",
      "Order: Symbol=USDT_BTC, Direction=BUY, Quantity=200, Price=1224.8267543771947\n",
      "65\n",
      "LONG 100\n",
      "67\n",
      "LONG 100\n",
      "69\n",
      "LONG 100\n",
      "71\n",
      "LONG 100\n",
      "73\n",
      "LONG 100\n",
      "75\n",
      "LONG 100\n",
      "77\n",
      "LONG 100\n",
      "79\n",
      "LONG 100\n",
      "81\n",
      "LONG 100\n",
      "83\n",
      "LONG 100\n",
      "85\n",
      "LONG 100\n",
      "87\n",
      "LONG 100\n",
      "89\n",
      "LONG 100\n",
      "91\n",
      "SHORT 100\n",
      "Order: Symbol=USDT_BTC, Direction=SELL, Quantity=200, Price=1255.7832884794639\n",
      "93\n",
      "SHORT -100\n",
      "95\n",
      "SHORT -100\n",
      "97\n",
      "SHORT -100\n",
      "100\n",
      "SHORT -100\n"
     ]
    }
   ],
   "source": [
    "continue_loop = True\n",
    "\n",
    "while continue_loop:\n",
    "\n",
    "    if market_data.continue_backtest == True:\n",
    "        num_market_snapshots = float(len(list(market_data.market_data.values())[0]))\n",
    "        num_backtested_snapshots = float(len(list(strategy.signals.values())[0]))\n",
    "        backtest_progress = int(num_backtested_snapshots / num_market_snapshots * 100)\n",
    "        print(backtest_progress)\n",
    "\n",
    "        market_data.update_market_data()\n",
    "    else:\n",
    "        break\n",
    "    \n",
    "    # Handle the events\n",
    "    while True:\n",
    "        try:\n",
    "            event = events.get(False)\n",
    "        except:\n",
    "            break\n",
    "        else:\n",
    "            if event is not None:\n",
    "                if event.type == 'MARKET':\n",
    "                    strategy.calculate_signals(event)\n",
    "                    port.update_timeindex(event)\n",
    "\n",
    "                elif event.type == 'SIGNAL':\n",
    "                    port.update_signal(event)\n",
    "\n",
    "                elif event.type == 'ORDER':\n",
    "                    event.print_order()\n",
    "                    exchange.execute_order(event)\n",
    "                    \n",
    "                elif event.type == 'FILL':\n",
    "                    port.update_fill(event)\n",
    "\n",
    "    # 10-Minute heartbeat\n",
    "    \n",
    "    #continue_loop = False"
   ]
  },
  {
   "cell_type": "code",
   "execution_count": 9,
   "metadata": {
    "collapsed": false
   },
   "outputs": [
    {
     "data": {
      "text/plain": [
       "{'USDT_BTC': -130839.20565837601,\n",
       " 'cash': 230835.80565837605,\n",
       " 'commission': 3.3999999999999995,\n",
       " 'total': 230835.80565837605}"
      ]
     },
     "execution_count": 9,
     "metadata": {},
     "output_type": "execute_result"
    }
   ],
   "source": [
    "port.current_holdings"
   ]
  },
  {
   "cell_type": "code",
   "execution_count": 3,
   "metadata": {
    "collapsed": false
   },
   "outputs": [
    {
     "ename": "TypeError",
     "evalue": "bad operand type for unary -: 'dict'",
     "output_type": "error",
     "traceback": [
      "\u001b[0;31m---------------------------------------------------------------------------\u001b[0m",
      "\u001b[0;31mTypeError\u001b[0m                                 Traceback (most recent call last)",
      "\u001b[0;32m<ipython-input-3-e86b5f527c51>\u001b[0m in \u001b[0;36m<module>\u001b[0;34m()\u001b[0m\n\u001b[1;32m      4\u001b[0m \u001b[0mprices\u001b[0m \u001b[0;34m=\u001b[0m \u001b[0mmarket_data\u001b[0m\u001b[0;34m.\u001b[0m\u001b[0mmarket_data\u001b[0m\u001b[0;34m[\u001b[0m\u001b[0;34m'USDT_BTC'\u001b[0m\u001b[0;34m]\u001b[0m\u001b[0;34m.\u001b[0m\u001b[0mrate\u001b[0m\u001b[0;34m[\u001b[0m\u001b[0;34m'mean'\u001b[0m\u001b[0;34m]\u001b[0m\u001b[0;34m\u001b[0m\u001b[0m\n\u001b[1;32m      5\u001b[0m \u001b[0mrolling_mean\u001b[0m \u001b[0;34m=\u001b[0m \u001b[0mmarket_data\u001b[0m\u001b[0;34m.\u001b[0m\u001b[0mmarket_data\u001b[0m\u001b[0;34m[\u001b[0m\u001b[0;34m'USDT_BTC'\u001b[0m\u001b[0;34m]\u001b[0m\u001b[0;34m.\u001b[0m\u001b[0mrate\u001b[0m\u001b[0;34m[\u001b[0m\u001b[0;34m'mean'\u001b[0m\u001b[0;34m]\u001b[0m\u001b[0;34m.\u001b[0m\u001b[0mrolling\u001b[0m\u001b[0;34m(\u001b[0m\u001b[0mwindow\u001b[0m\u001b[0;34m=\u001b[0m\u001b[0;36m6\u001b[0m\u001b[0;34m)\u001b[0m\u001b[0;34m.\u001b[0m\u001b[0mmean\u001b[0m\u001b[0;34m(\u001b[0m\u001b[0;34m)\u001b[0m\u001b[0;34m\u001b[0m\u001b[0m\n\u001b[0;32m----> 6\u001b[0;31m \u001b[0msignals\u001b[0m \u001b[0;34m=\u001b[0m \u001b[0;36m1\u001b[0m\u001b[0;34m*\u001b[0m\u001b[0;34m-\u001b[0m\u001b[0mpd\u001b[0m\u001b[0;34m.\u001b[0m\u001b[0mSeries\u001b[0m\u001b[0;34m(\u001b[0m\u001b[0mstrategy\u001b[0m\u001b[0;34m.\u001b[0m\u001b[0msignals\u001b[0m\u001b[0;34m[\u001b[0m\u001b[0;34m'USDT_BTC'\u001b[0m\u001b[0;34m]\u001b[0m\u001b[0;34m[\u001b[0m\u001b[0;36m1\u001b[0m\u001b[0;34m:\u001b[0m\u001b[0;34m]\u001b[0m\u001b[0;34m,\u001b[0m \u001b[0mindex\u001b[0m\u001b[0;34m=\u001b[0m\u001b[0mmarket_data\u001b[0m\u001b[0;34m.\u001b[0m\u001b[0mmarket_data\u001b[0m\u001b[0;34m[\u001b[0m\u001b[0;34m'USDT_BTC'\u001b[0m\u001b[0;34m]\u001b[0m\u001b[0;34m.\u001b[0m\u001b[0mindex\u001b[0m\u001b[0;34m)\u001b[0m\u001b[0;34m\u001b[0m\u001b[0m\n\u001b[0m\u001b[1;32m      7\u001b[0m \u001b[0msignals\u001b[0m \u001b[0;34m=\u001b[0m \u001b[0msignals\u001b[0m\u001b[0;34m.\u001b[0m\u001b[0mdiff\u001b[0m\u001b[0;34m(\u001b[0m\u001b[0;34m)\u001b[0m\u001b[0;34m\u001b[0m\u001b[0m\n\u001b[1;32m      8\u001b[0m \u001b[0mfig\u001b[0m \u001b[0;34m=\u001b[0m \u001b[0mplt\u001b[0m\u001b[0;34m.\u001b[0m\u001b[0mfigure\u001b[0m\u001b[0;34m(\u001b[0m\u001b[0mfigsize\u001b[0m\u001b[0;34m=\u001b[0m\u001b[0;34m(\u001b[0m\u001b[0;36m20\u001b[0m\u001b[0;34m,\u001b[0m\u001b[0;36m10\u001b[0m\u001b[0;34m)\u001b[0m\u001b[0;34m)\u001b[0m\u001b[0;34m\u001b[0m\u001b[0m\n",
      "\u001b[0;32m/home/ubuntu/anaconda3/lib/python3.5/site-packages/pandas/core/generic.py\u001b[0m in \u001b[0;36m__neg__\u001b[0;34m(self)\u001b[0m\n\u001b[1;32m    775\u001b[0m             \u001b[0marr\u001b[0m \u001b[0;34m=\u001b[0m \u001b[0moperator\u001b[0m\u001b[0;34m.\u001b[0m\u001b[0minv\u001b[0m\u001b[0;34m(\u001b[0m\u001b[0mvalues\u001b[0m\u001b[0;34m)\u001b[0m\u001b[0;34m\u001b[0m\u001b[0m\n\u001b[1;32m    776\u001b[0m         \u001b[0;32melse\u001b[0m\u001b[0;34m:\u001b[0m\u001b[0;34m\u001b[0m\u001b[0m\n\u001b[0;32m--> 777\u001b[0;31m             \u001b[0marr\u001b[0m \u001b[0;34m=\u001b[0m \u001b[0moperator\u001b[0m\u001b[0;34m.\u001b[0m\u001b[0mneg\u001b[0m\u001b[0;34m(\u001b[0m\u001b[0mvalues\u001b[0m\u001b[0;34m)\u001b[0m\u001b[0;34m\u001b[0m\u001b[0m\n\u001b[0m\u001b[1;32m    778\u001b[0m         \u001b[0;32mreturn\u001b[0m \u001b[0mself\u001b[0m\u001b[0;34m.\u001b[0m\u001b[0m__array_wrap__\u001b[0m\u001b[0;34m(\u001b[0m\u001b[0marr\u001b[0m\u001b[0;34m)\u001b[0m\u001b[0;34m\u001b[0m\u001b[0m\n\u001b[1;32m    779\u001b[0m \u001b[0;34m\u001b[0m\u001b[0m\n",
      "\u001b[0;31mTypeError\u001b[0m: bad operand type for unary -: 'dict'"
     ]
    }
   ],
   "source": [
    "%matplotlib inline\n",
    "from pylab import *\n",
    "import pandas as pd\n",
    "prices = market_data.market_data['USDT_BTC'].rate['mean']\n",
    "rolling_mean = market_data.market_data['USDT_BTC'].rate['mean'].rolling(window=6).mean()\n",
    "signals = 1*-pd.Series(strategy.signals['USDT_BTC'][1:], index=market_data.market_data['USDT_BTC'].index)\n",
    "signals = signals.diff()\n",
    "fig = plt.figure(figsize=(20,10))\n",
    "    # Set the outer colour to white\n",
    "ax1 = fig.add_subplot(211,  ylabel='Price in $')\n",
    "\n",
    "# Plot the AAPL closing price overlaid with the moving averages\n",
    "prices.plot(ax=ax1, color='r', lw=2.)\n",
    "rolling_mean.plot(ax=ax1, lw=2.)\n",
    "\n",
    "# Plot the \"buy\" trades against AAPL\n",
    "ax1.plot(signals[signals==1.0].index, \n",
    "         prices[signals== 1.0],\n",
    "         '^', markersize=10, color='m')\n",
    "\n",
    "# Plot the \"sell\" trades against AAPL\n",
    "ax1.plot(signals[signals == -1.0].index, \n",
    "         prices[signals == -1.0],\n",
    "         'v', markersize=10, color='k')\n",
    "    \n",
    "\n",
    "# Plot the figure\n",
    "fig.show()"
   ]
  },
  {
   "cell_type": "code",
   "execution_count": null,
   "metadata": {
    "collapsed": true
   },
   "outputs": [],
   "source": []
  },
  {
   "cell_type": "code",
   "execution_count": null,
   "metadata": {
    "collapsed": true
   },
   "outputs": [],
   "source": []
  },
  {
   "cell_type": "code",
   "execution_count": null,
   "metadata": {
    "collapsed": true
   },
   "outputs": [],
   "source": []
  },
  {
   "cell_type": "code",
   "execution_count": null,
   "metadata": {
    "collapsed": true
   },
   "outputs": [],
   "source": []
  },
  {
   "cell_type": "code",
   "execution_count": null,
   "metadata": {
    "collapsed": true
   },
   "outputs": [],
   "source": []
  },
  {
   "cell_type": "code",
   "execution_count": null,
   "metadata": {
    "collapsed": true
   },
   "outputs": [],
   "source": []
  },
  {
   "cell_type": "code",
   "execution_count": null,
   "metadata": {
    "collapsed": true
   },
   "outputs": [],
   "source": []
  },
  {
   "cell_type": "code",
   "execution_count": null,
   "metadata": {
    "collapsed": true
   },
   "outputs": [],
   "source": []
  },
  {
   "cell_type": "code",
   "execution_count": null,
   "metadata": {
    "collapsed": true
   },
   "outputs": [],
   "source": []
  },
  {
   "cell_type": "code",
   "execution_count": null,
   "metadata": {
    "collapsed": true
   },
   "outputs": [],
   "source": []
  },
  {
   "cell_type": "code",
   "execution_count": null,
   "metadata": {
    "collapsed": true
   },
   "outputs": [],
   "source": []
  }
 ],
 "metadata": {
  "anaconda-cloud": {},
  "kernelspec": {
   "display_name": "Python [conda root]",
   "language": "python",
   "name": "conda-root-py"
  },
  "language_info": {
   "codemirror_mode": {
    "name": "ipython",
    "version": 3
   },
   "file_extension": ".py",
   "mimetype": "text/x-python",
   "name": "python",
   "nbconvert_exporter": "python",
   "pygments_lexer": "ipython3",
   "version": "3.5.2"
  }
 },
 "nbformat": 4,
 "nbformat_minor": 1
}
