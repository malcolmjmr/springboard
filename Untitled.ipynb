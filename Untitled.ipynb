{
 "cells": [
  {
   "cell_type": "markdown",
   "metadata": {},
   "source": [
    "# Reddit Comments\n",
    "\n",
    "- [Overview](#Overview)\n",
    "- [Acquisition](#Acquisition)\n",
    "- [Preprocessing](#Preprocessing)\n",
    "- [Exploritory Data Analysis](#Exploritory-Data-Analysis)"
   ]
  },
  {
   "cell_type": "markdown",
   "metadata": {},
   "source": [
    "## Overview\n",
    "\n",
    "Reddit is one of the most widely used forums for cryptocurrency enthusiasts. The subreddits of bitcoin and other digital currencies provide relevant news on a given currency, which can drive it's price one way or the other. The underlying hypothesis for this project is that semantic analysis of redit posts and comments can allow for accurate classification of future market scenarios. In this notebook I will go through the acquisition, preprocessing and exploration of the cryptocurrency related reddit comments. "
   ]
  },
  {
   "cell_type": "code",
   "execution_count": 2,
   "metadata": {
    "collapsed": false
   },
   "outputs": [
    {
     "data": {
      "text/html": [
       "<style>table {\n",
       "    border: none;\n",
       "    text-align: left;\n",
       "    font-family: \"Lucida Sans Unicode\", \"Lucida Grande\", sans-serif;\n",
       "    width: 100%;\n",
       "}\n",
       "\n",
       "th {\n",
       "    font: 16px bold;\n",
       "    background-color: #2C8399;\n",
       "    opacity: 0.6;\n",
       "    padding: 10px;\n",
       "    color: white;\n",
       "}\n",
       "\n",
       "tr {\n",
       "    background-color: #EDEDED;\n",
       "}\n",
       "\n",
       "tr:hover {\n",
       "    background-color: lightblue;\n",
       "}\n",
       "\n",
       "td {\n",
       "    border: 1px dotted white;\n",
       "}\n",
       "\n",
       "h1 {\n",
       "    padding: 10px;\n",
       "    border-bottom: 2px solid #2C8399;\n",
       "    color: #2C8399;\n",
       "}\n",
       "\n",
       "h2 {\n",
       "    background-color: #2C8399;\n",
       "    color: white;\n",
       "    padding: 20px;\n",
       "}</style>"
      ],
      "text/plain": [
       "<IPython.core.display.HTML object>"
      ]
     },
     "execution_count": 2,
     "metadata": {},
     "output_type": "execute_result"
    }
   ],
   "source": [
    "import os\n",
    "from io import StringIO\n",
    "import json\n",
    "import time\n",
    "import requests\n",
    "%matplotlib inline\n",
    "from pylab import *\n",
    "import pandas as pd\n",
    "import numpy as np\n",
    "from datetime import datetime, timedelta\n",
    "import seaborn as sns\n",
    "sns.set(rc={\"figure.figsize\": (20, 10)}) \n",
    "import plotly.plotly as py  \n",
    "import plotly.tools as tls   \n",
    "from plotly.graph_objs import *\n",
    "pd.options.display.max_rows = 200\n",
    "pd.options.display.max_columns = 200\n",
    "\n",
    "py.sign_in('malcolmjmr','cq11ex56nf')\n",
    "\n",
    "from IPython.core.display import HTML\n",
    "HTML('<style>{}</style>'.format( open('style.css').read() ) )"
   ]
  },
  {
   "cell_type": "markdown",
   "metadata": {},
   "source": [
    "## Acquisition\n",
    "\n",
    "Historical Reddit data is provided by [pushshift.io](https://pushshift.io/) as a Google BigQuery dataset. The dataset contains records from the start of February of 2016.\n",
    "\n",
    "I make a query of comments from the Bitcoin, Ethereum and Monero subreddits, since these are the three currencies with the most active subreddits and most liquid markets. I then export the tabels to a google cloud storage bucket that is publically available for retrieval of the datasets used in this project.\n",
    "\n",
    "First I fetch the reddit comment files and add a time_interval field to them so I can group them in the same manner as I will be grouping trades, by 15 minute intervals. I do this both to standardize the time series data and to later reduce the size of my dataset. "
   ]
  },
  {
   "cell_type": "code",
   "execution_count": 4,
   "metadata": {
    "collapsed": false
   },
   "outputs": [],
   "source": [
    "currencies = ['bitcoin','ethereum','monero']\n",
    "comments_data = {}\n",
    "\n",
    "for currency in currencies:\n",
    "    file_uri = 'https://storage.googleapis.com/springboard-145615.appspot.com/Reddit/{}_comments'.format(currency)\n",
    "    file = StringIO(requests.get(file_uri).content.decode('utf-8'))\n",
    "    comments = pd.read_csv(file)\n",
    "    comments['created_utc'] = pd.to_datetime(comments.created_utc)\n",
    "    comments = comments.set_index('created_utc')\n",
    "    comments_data[currency] = comments"
   ]
  },
  {
   "cell_type": "code",
   "execution_count": 5,
   "metadata": {
    "collapsed": false
   },
   "outputs": [
    {
     "data": {
      "text/html": [
       "<div>\n",
       "<table border=\"1\" class=\"dataframe\">\n",
       "  <thead>\n",
       "    <tr style=\"text-align: right;\">\n",
       "      <th></th>\n",
       "      <th>author_flair_text</th>\n",
       "      <th>subreddit_id</th>\n",
       "      <th>parent_id</th>\n",
       "      <th>body</th>\n",
       "      <th>subreddit</th>\n",
       "      <th>link_id</th>\n",
       "      <th>author_flair_css_class</th>\n",
       "      <th>author</th>\n",
       "      <th>id</th>\n",
       "      <th>score</th>\n",
       "      <th>time_interval</th>\n",
       "    </tr>\n",
       "    <tr>\n",
       "      <th>created_utc</th>\n",
       "      <th></th>\n",
       "      <th></th>\n",
       "      <th></th>\n",
       "      <th></th>\n",
       "      <th></th>\n",
       "      <th></th>\n",
       "      <th></th>\n",
       "      <th></th>\n",
       "      <th></th>\n",
       "      <th></th>\n",
       "      <th></th>\n",
       "    </tr>\n",
       "  </thead>\n",
       "  <tbody>\n",
       "    <tr>\n",
       "      <th>2016-06-14 08:41:23</th>\n",
       "      <td>NaN</td>\n",
       "      <td>2s3qj</td>\n",
       "      <td>d48ge5t</td>\n",
       "      <td>We use a system of rotating tubs, anyone in ou...</td>\n",
       "      <td>Bitcoin</td>\n",
       "      <td>4nztod</td>\n",
       "      <td>NaN</td>\n",
       "      <td>daftspunky</td>\n",
       "      <td>d48imlh</td>\n",
       "      <td>NaN</td>\n",
       "      <td>2016-06-14 08:45:00</td>\n",
       "    </tr>\n",
       "  </tbody>\n",
       "</table>\n",
       "</div>"
      ],
      "text/plain": [
       "                    author_flair_text subreddit_id parent_id  \\\n",
       "created_utc                                                    \n",
       "2016-06-14 08:41:23               NaN        2s3qj   d48ge5t   \n",
       "\n",
       "                                                                  body  \\\n",
       "created_utc                                                              \n",
       "2016-06-14 08:41:23  We use a system of rotating tubs, anyone in ou...   \n",
       "\n",
       "                    subreddit link_id author_flair_css_class      author  \\\n",
       "created_utc                                                                \n",
       "2016-06-14 08:41:23   Bitcoin  4nztod                    NaN  daftspunky   \n",
       "\n",
       "                          id  score       time_interval  \n",
       "created_utc                                              \n",
       "2016-06-14 08:41:23  d48imlh    NaN 2016-06-14 08:45:00  "
      ]
     },
     "execution_count": 5,
     "metadata": {},
     "output_type": "execute_result"
    }
   ],
   "source": [
    "comments_data['bitcoin'].head(1)"
   ]
  },
  {
   "cell_type": "code",
   "execution_count": 6,
   "metadata": {
    "collapsed": false
   },
   "outputs": [
    {
     "name": "stdout",
     "output_type": "stream",
     "text": [
      "461878 bitcoin comments\n",
      "174215 ethereum comments\n",
      "38862 monero comments\n"
     ]
    }
   ],
   "source": [
    "for c in currencies:\n",
    "    print('{} {} comments'.format(comments_data[c].shape[0], c))"
   ]
  },
  {
   "cell_type": "markdown",
   "metadata": {},
   "source": [
    "## Preprocessing "
   ]
  },
  {
   "cell_type": "code",
   "execution_count": 25,
   "metadata": {
    "collapsed": false
   },
   "outputs": [],
   "source": [
    "full_df = pd.concat([comments_data[c] for c in currencies])\n",
    "full_df['hour'] = full_df.index.to_period('1H')"
   ]
  },
  {
   "cell_type": "code",
   "execution_count": 28,
   "metadata": {
    "collapsed": true
   },
   "outputs": [],
   "source": [
    "hours = full_df.hour.unique()"
   ]
  },
  {
   "cell_type": "code",
   "execution_count": 31,
   "metadata": {
    "collapsed": true
   },
   "outputs": [],
   "source": [
    "full_df = full_df.set_index('hour')"
   ]
  },
  {
   "cell_type": "code",
   "execution_count": 46,
   "metadata": {
    "collapsed": false
   },
   "outputs": [],
   "source": [
    "grouped_comments = []\n",
    "\n",
    "for h in hours:\n",
    "    comments_per_hour = full_df[full_df.index==h]\n",
    "    comment_bodys = [str(b) for b in comments_per_hour.body.values]\n",
    "    comment_authors = [str(a) for a in comments_per_hour.author.values]\n",
    "    grouped_comments.append(' '.join(comment_bodys+comment_authors))\n",
    "\n",
    "grouped_comments = pd.DataFrame(grouped_comments,index=hours,columns=['comments'])"
   ]
  },
  {
   "cell_type": "code",
   "execution_count": 50,
   "metadata": {
    "collapsed": false
   },
   "outputs": [],
   "source": [
    "grouped_comments.to_csv('data/grouped_comments.csv')"
   ]
  },
  {
   "cell_type": "markdown",
   "metadata": {},
   "source": [
    "## Exploritory Data Analysis"
   ]
  },
  {
   "cell_type": "code",
   "execution_count": 168,
   "metadata": {
    "collapsed": false
   },
   "outputs": [
    {
     "data": {
      "image/png": "[encoded data removed]",
      "text/plain": [
       "<matplotlib.figure.Figure at 0x7f46568f6898>"
      ]
     },
     "metadata": {},
     "output_type": "display_data"
    }
   ],
   "source": [
    "for c in currencies:\n",
    "    comments = comments_data[c]\n",
    "    daily_count = comments.groupby(comments.index.to_period('D')).count().body.sort_index()\n",
    "    plt.hist(daily_count, label=c, bins=50)\n",
    "    \n",
    "plt.legend()\n",
    "plt.show()"
   ]
  },
  {
   "cell_type": "code",
   "execution_count": 165,
   "metadata": {
    "collapsed": false
   },
   "outputs": [
    {
     "data": {
      "text/html": [
       "<iframe id=\"igraph\" scrolling=\"no\" style=\"border:none;\" seamless=\"seamless\" src=\"https://plot.ly/~malcolmjmr/12.embed\" height=\"525px\" width=\"100%\"></iframe>"
      ],
      "text/plain": [
       "<plotly.tools.PlotlyDisplay object>"
      ]
     },
     "execution_count": 165,
     "metadata": {},
     "output_type": "execute_result"
    }
   ],
   "source": [
    "for c in currencies:\n",
    "    comments = comments_data[c]\n",
    "    daily_count = comments.groupby(comments.index.to_period('D')).count().body.sort_index()\n",
    "    plt.plot(daily_count, label=c)\n",
    "\n",
    "py.iplot_mpl(plt.gcf())"
   ]
  },
  {
   "cell_type": "code",
   "execution_count": 152,
   "metadata": {
    "collapsed": false
   },
   "outputs": [
    {
     "data": {
      "text/html": [
       "<div>\n",
       "<table border=\"1\" class=\"dataframe\">\n",
       "  <thead>\n",
       "    <tr style=\"text-align: right;\">\n",
       "      <th></th>\n",
       "      <th>bitcoin</th>\n",
       "      <th>ethereum</th>\n",
       "      <th>monero</th>\n",
       "    </tr>\n",
       "  </thead>\n",
       "  <tbody>\n",
       "    <tr>\n",
       "      <th>bitcoin</th>\n",
       "      <td>1.000000</td>\n",
       "      <td>0.301387</td>\n",
       "      <td>-0.212984</td>\n",
       "    </tr>\n",
       "    <tr>\n",
       "      <th>ethereum</th>\n",
       "      <td>0.301387</td>\n",
       "      <td>1.000000</td>\n",
       "      <td>0.016553</td>\n",
       "    </tr>\n",
       "    <tr>\n",
       "      <th>monero</th>\n",
       "      <td>-0.212984</td>\n",
       "      <td>0.016553</td>\n",
       "      <td>1.000000</td>\n",
       "    </tr>\n",
       "  </tbody>\n",
       "</table>\n",
       "</div>"
      ],
      "text/plain": [
       "           bitcoin  ethereum    monero\n",
       "bitcoin   1.000000  0.301387 -0.212984\n",
       "ethereum  0.301387  1.000000  0.016553\n",
       "monero   -0.212984  0.016553  1.000000"
      ]
     },
     "execution_count": 152,
     "metadata": {},
     "output_type": "execute_result"
    }
   ],
   "source": [
    "all_three_monthly_counts.corr()"
   ]
  },
  {
   "cell_type": "code",
   "execution_count": 171,
   "metadata": {
    "collapsed": false
   },
   "outputs": [
    {
     "data": {
      "text/plain": [
       "Timestamp('2016-02-03 21:18:25')"
      ]
     },
     "execution_count": 171,
     "metadata": {},
     "output_type": "execute_result"
    }
   ],
   "source": []
  },
  {
   "cell_type": "code",
   "execution_count": null,
   "metadata": {
    "collapsed": true
   },
   "outputs": [],
   "source": []
  }
 ],
 "metadata": {
  "anaconda-cloud": {},
  "kernelspec": {
   "display_name": "Python [conda root]",
   "language": "python",
   "name": "conda-root-py"
  },
  "language_info": {
   "codemirror_mode": {
    "name": "ipython",
    "version": 3
   },
   "file_extension": ".py",
   "mimetype": "text/x-python",
   "name": "python",
   "nbconvert_exporter": "python",
   "pygments_lexer": "ipython3",
   "version": "3.5.2"
  }
 },
 "nbformat": 4,
 "nbformat_minor": 1
}
